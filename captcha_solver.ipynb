{
 "cells": [
  {
   "cell_type": "markdown",
   "metadata": {},
   "source": [
    "# Captcha solver\n",
    "\n",
    "### Steps:\n",
    "\n",
    "#### 1. Extracting the digits from the image:\n",
    "1. Preprocessing the image and converting to grayscale\n",
    "2. Extracting and sorting the contours from left to right\n",
    "3. Looping on all the images in folder to extract number image which are sorted from left to right.\n",
    "4. Flattening the extracted digit image to 1D matrix with pixel intensities\n",
    "5. Assigning the image and row in the dataframe to thier corresponding digit string using filename.\n",
    "\n",
    "#### 2. Machine Learning Modeling\n",
    "\n",
    "#### 3. Predictions"
   ]
  },
  {
   "cell_type": "code",
   "execution_count": 1,
   "metadata": {},
   "outputs": [],
   "source": [
    "#importing libraries\n",
    "import numpy as np #numpy\n",
    "import cv2 as cv #OpenCV\n",
    "import os #os\n",
    "import pandas as pd #pandas\n",
    "from matplotlib import pyplot as plt #for plotting\n",
    "from sklearn.model_selection import train_test_split #for dividing data into train and test \n",
    "from sklearn import svm #svm"
   ]
  },
  {
   "cell_type": "markdown",
   "metadata": {},
   "source": [
    "# Functions"
   ]
  },
  {
   "cell_type": "code",
   "execution_count": 2,
   "metadata": {},
   "outputs": [],
   "source": [
    "#function for sorting\n",
    "def Sortt(sub_li): \n",
    "    #for sorting contours left to right.In x[0], 0 signifies array to be sorted according to first element which is x axis in 'newarray'\n",
    "    sub_li.sort(key = lambda x: x[0]) \n",
    "    return sub_li"
   ]
  },
  {
   "cell_type": "markdown",
   "metadata": {},
   "source": [
    "## Function for preprocessing image\n",
    "1. Load the image and convert to grayscale\n",
    "2. Apply Otsu algorithm for thresholding which reduce the gray level image to a binary image.\n",
    "3. Finding contours in the image\n",
    "4. returning contours and grayscalled image"
   ]
  },
  {
   "cell_type": "code",
   "execution_count": 3,
   "metadata": {},
   "outputs": [],
   "source": [
    "def preprocessing(file):\n",
    "    #Load the image\n",
    "    im = cv.imread(file)    \n",
    "    #capture image in monochrome\n",
    "    grayimage = cv.cvtColor(im, cv.COLOR_BGR2GRAY)\n",
    "    # Otsu thresholding    \n",
    "    ret, thresh = cv.threshold(grayimage, 127, 255, cv.THRESH_BINARY + cv.THRESH_OTSU)\n",
    "    # Finding contours\n",
    "    processed_image, contours, hierarchy = cv.findContours(thresh, cv.RETR_TREE, cv.CHAIN_APPROX_SIMPLE)\n",
    "    return contours, grayimage"
   ]
  },
  {
   "cell_type": "markdown",
   "metadata": {},
   "source": [
    "## Function for Sorting Contours\n",
    "1. iterating though all the contours removing the small and big unwanted contours.\n",
    "2. Sorting them from left to right"
   ]
  },
  {
   "cell_type": "code",
   "execution_count": 4,
   "metadata": {},
   "outputs": [],
   "source": [
    "def SortContours(contours):\n",
    "    newarray=[]\n",
    "    #Looping through all contours\n",
    "    for cnt in contours:\n",
    "        #getting position, height and width\n",
    "        x,y,w,h = cv.boundingRect(cnt)\n",
    "        # leaving small and big unnecessary contours \n",
    "        if h>30 and w>30:\n",
    "            continue\n",
    "        if h<5 or w<5:\n",
    "            continue\n",
    "        newarray.append((x,y,w,h))\n",
    "    #Sorting them along x axis from left to right\n",
    "    sortedparams= Sortt(newarray)\n",
    "    return sortedparams"
   ]
  },
  {
   "cell_type": "markdown",
   "metadata": {},
   "source": [
    "## Function to extract numbers\n",
    "1. Extracting contours keeping same height and weight.\n",
    "2. Flatten the extracted image into 1D array which stores the intensity of each pixel of extracted contour"
   ]
  },
  {
   "cell_type": "code",
   "execution_count": 5,
   "metadata": {},
   "outputs": [],
   "source": [
    "def ExtractNumbers(sortedparams,grayimage):\n",
    "        x0,y0,w0,h0 = sortedparams\n",
    "        #Extracting number contours from original gray-scaled image.\n",
    "        grr = grayimage[y0:y0+12,x0:x0+9]\n",
    "        #Otsu thresholding\n",
    "        ret2,digit = cv.threshold(grr, 127, 255, cv.THRESH_BINARY + cv.THRESH_OTSU)\n",
    "        #Flattening to 1D array.\n",
    "        pixel_array =grr.flatten()\n",
    "        return pixel_array,digit"
   ]
  },
  {
   "cell_type": "markdown",
   "metadata": {},
   "source": [
    "# 1: Process of extracting digit images from main image\n",
    "1. Preprocessing the image and converting to grayscale\n",
    "2. Extracting and sorting the contours from left to right\n",
    "3. Looping on all the images in folder to extract number image which are sorted from left to right and assigning them thier corresponding digit from the filename."
   ]
  },
  {
   "cell_type": "code",
   "execution_count": 6,
   "metadata": {},
   "outputs": [],
   "source": [
    "directory = 'F:/CV/solved-captchas/electoral-tagged'\n",
    "directory1 = 'F:/CV/'\n",
    "j=0\n",
    "rows = []\n",
    "#Loop on all the files in the directory\n",
    "for file in os.listdir(directory):\n",
    "    \n",
    "    #saving the filename\n",
    "    filename=os.path.splitext(file)[0]\n",
    "    os.chdir(directory)\n",
    "    \n",
    "    #Preprocessing the image\n",
    "    cont, imgray = preprocessing(file)\n",
    "    \n",
    "    #Sorting contours left to right\n",
    "    c = SortContours(cont)\n",
    "    \n",
    "    i=0\n",
    "    #Looping on all the contours to extract digits\n",
    "    for cnt in c:\n",
    "        os.chdir(directory1)\n",
    "        \n",
    "        #Extracting digit image from each contour and pixel intensity array\n",
    "        pix_array, dig =ExtractNumbers(cnt,imgray)\n",
    "        \n",
    "        #Adding corresponding number to the array \n",
    "        pix_array= np.insert(pix_array,0,filename[i])\n",
    "        rows.append(pix_array)\n",
    "        \n",
    "        #Saving numbers to their corresponding folders\n",
    "        if not os.path.exists(filename[i]):\n",
    "            os.makedirs(filename[i])\n",
    "        os.chdir(directory1+filename[i])\n",
    "        cv.imwrite(str(j)+'.png', dig)   \n",
    "        i=i+1\n",
    "        j=j+1\n",
    "        os.chdir(directory1)"
   ]
  },
  {
   "cell_type": "code",
   "execution_count": 7,
   "metadata": {},
   "outputs": [],
   "source": [
    "df = pd.DataFrame(rows)"
   ]
  },
  {
   "cell_type": "code",
   "execution_count": 8,
   "metadata": {
    "scrolled": true
   },
   "outputs": [
    {
     "data": {
      "text/html": [
       "<div>\n",
       "<style scoped>\n",
       "    .dataframe tbody tr th:only-of-type {\n",
       "        vertical-align: middle;\n",
       "    }\n",
       "\n",
       "    .dataframe tbody tr th {\n",
       "        vertical-align: top;\n",
       "    }\n",
       "\n",
       "    .dataframe thead th {\n",
       "        text-align: right;\n",
       "    }\n",
       "</style>\n",
       "<table border=\"1\" class=\"dataframe\">\n",
       "  <thead>\n",
       "    <tr style=\"text-align: right;\">\n",
       "      <th></th>\n",
       "      <th>0</th>\n",
       "      <th>1</th>\n",
       "      <th>2</th>\n",
       "      <th>3</th>\n",
       "      <th>4</th>\n",
       "      <th>5</th>\n",
       "      <th>6</th>\n",
       "      <th>7</th>\n",
       "      <th>8</th>\n",
       "      <th>9</th>\n",
       "      <th>...</th>\n",
       "      <th>99</th>\n",
       "      <th>100</th>\n",
       "      <th>101</th>\n",
       "      <th>102</th>\n",
       "      <th>103</th>\n",
       "      <th>104</th>\n",
       "      <th>105</th>\n",
       "      <th>106</th>\n",
       "      <th>107</th>\n",
       "      <th>108</th>\n",
       "    </tr>\n",
       "  </thead>\n",
       "  <tbody>\n",
       "    <tr>\n",
       "      <th>0</th>\n",
       "      <td>1</td>\n",
       "      <td>255</td>\n",
       "      <td>255</td>\n",
       "      <td>255</td>\n",
       "      <td>255</td>\n",
       "      <td>255</td>\n",
       "      <td>255</td>\n",
       "      <td>255</td>\n",
       "      <td>255</td>\n",
       "      <td>255</td>\n",
       "      <td>...</td>\n",
       "      <td>255</td>\n",
       "      <td>255</td>\n",
       "      <td>255</td>\n",
       "      <td>255</td>\n",
       "      <td>255</td>\n",
       "      <td>255</td>\n",
       "      <td>255</td>\n",
       "      <td>255</td>\n",
       "      <td>255</td>\n",
       "      <td>255</td>\n",
       "    </tr>\n",
       "    <tr>\n",
       "      <th>1</th>\n",
       "      <td>1</td>\n",
       "      <td>255</td>\n",
       "      <td>255</td>\n",
       "      <td>255</td>\n",
       "      <td>255</td>\n",
       "      <td>255</td>\n",
       "      <td>255</td>\n",
       "      <td>255</td>\n",
       "      <td>255</td>\n",
       "      <td>255</td>\n",
       "      <td>...</td>\n",
       "      <td>255</td>\n",
       "      <td>255</td>\n",
       "      <td>255</td>\n",
       "      <td>255</td>\n",
       "      <td>255</td>\n",
       "      <td>255</td>\n",
       "      <td>255</td>\n",
       "      <td>255</td>\n",
       "      <td>255</td>\n",
       "      <td>255</td>\n",
       "    </tr>\n",
       "    <tr>\n",
       "      <th>2</th>\n",
       "      <td>1</td>\n",
       "      <td>255</td>\n",
       "      <td>255</td>\n",
       "      <td>255</td>\n",
       "      <td>255</td>\n",
       "      <td>255</td>\n",
       "      <td>255</td>\n",
       "      <td>255</td>\n",
       "      <td>255</td>\n",
       "      <td>255</td>\n",
       "      <td>...</td>\n",
       "      <td>255</td>\n",
       "      <td>255</td>\n",
       "      <td>255</td>\n",
       "      <td>255</td>\n",
       "      <td>255</td>\n",
       "      <td>255</td>\n",
       "      <td>255</td>\n",
       "      <td>255</td>\n",
       "      <td>255</td>\n",
       "      <td>255</td>\n",
       "    </tr>\n",
       "    <tr>\n",
       "      <th>3</th>\n",
       "      <td>1</td>\n",
       "      <td>255</td>\n",
       "      <td>255</td>\n",
       "      <td>255</td>\n",
       "      <td>255</td>\n",
       "      <td>255</td>\n",
       "      <td>255</td>\n",
       "      <td>255</td>\n",
       "      <td>255</td>\n",
       "      <td>255</td>\n",
       "      <td>...</td>\n",
       "      <td>255</td>\n",
       "      <td>255</td>\n",
       "      <td>255</td>\n",
       "      <td>255</td>\n",
       "      <td>255</td>\n",
       "      <td>255</td>\n",
       "      <td>255</td>\n",
       "      <td>255</td>\n",
       "      <td>255</td>\n",
       "      <td>255</td>\n",
       "    </tr>\n",
       "    <tr>\n",
       "      <th>4</th>\n",
       "      <td>4</td>\n",
       "      <td>255</td>\n",
       "      <td>255</td>\n",
       "      <td>255</td>\n",
       "      <td>255</td>\n",
       "      <td>255</td>\n",
       "      <td>255</td>\n",
       "      <td>255</td>\n",
       "      <td>255</td>\n",
       "      <td>255</td>\n",
       "      <td>...</td>\n",
       "      <td>255</td>\n",
       "      <td>255</td>\n",
       "      <td>255</td>\n",
       "      <td>255</td>\n",
       "      <td>255</td>\n",
       "      <td>255</td>\n",
       "      <td>255</td>\n",
       "      <td>255</td>\n",
       "      <td>255</td>\n",
       "      <td>255</td>\n",
       "    </tr>\n",
       "  </tbody>\n",
       "</table>\n",
       "<p>5 rows × 109 columns</p>\n",
       "</div>"
      ],
      "text/plain": [
       "   0    1    2    3    4    5    6    7    8    9   ...   99   100  101  102  \\\n",
       "0    1  255  255  255  255  255  255  255  255  255 ...   255  255  255  255   \n",
       "1    1  255  255  255  255  255  255  255  255  255 ...   255  255  255  255   \n",
       "2    1  255  255  255  255  255  255  255  255  255 ...   255  255  255  255   \n",
       "3    1  255  255  255  255  255  255  255  255  255 ...   255  255  255  255   \n",
       "4    4  255  255  255  255  255  255  255  255  255 ...   255  255  255  255   \n",
       "\n",
       "   103  104  105  106  107  108  \n",
       "0  255  255  255  255  255  255  \n",
       "1  255  255  255  255  255  255  \n",
       "2  255  255  255  255  255  255  \n",
       "3  255  255  255  255  255  255  \n",
       "4  255  255  255  255  255  255  \n",
       "\n",
       "[5 rows x 109 columns]"
      ]
     },
     "execution_count": 8,
     "metadata": {},
     "output_type": "execute_result"
    }
   ],
   "source": [
    "df.head(5)"
   ]
  },
  {
   "cell_type": "markdown",
   "metadata": {},
   "source": [
    "Here the first column is the digit and the rest of columns are the intensity of respectve pixels."
   ]
  },
  {
   "cell_type": "markdown",
   "metadata": {},
   "source": [
    "# 2: Visualising"
   ]
  },
  {
   "cell_type": "code",
   "execution_count": 9,
   "metadata": {},
   "outputs": [
    {
     "data": {
      "image/png": "[encoded data removed]",
      "text/plain": [
       "<Figure size 1080x1080 with 90 Axes>"
      ]
     },
     "metadata": {
      "needs_background": "light"
     },
     "output_type": "display_data"
    }
   ],
   "source": [
    "# Visualising\n",
    "f, axarr = plt.subplots(9,10,figsize=(15,15))\n",
    "for l in range(1 , 10):\n",
    "    dir= directory1+str(l)\n",
    "    os.chdir(dir)\n",
    "    m=0\n",
    "    for fl in os.listdir(dir):\n",
    "        if m>9:\n",
    "            break\n",
    "        op = cv.imread(fl)\n",
    "        axarr[l-1,m].imshow(op)\n",
    "        m=m+1"
   ]
  },
  {
   "cell_type": "markdown",
   "metadata": {},
   "source": [
    "\n",
    "The images of respective digits looks more or less the same.\n"
   ]
  },
  {
   "cell_type": "markdown",
   "metadata": {},
   "source": [
    "# 3:Machine Learning Modeling\n",
    "\n",
    "Using SVM"
   ]
  },
  {
   "cell_type": "code",
   "execution_count": 10,
   "metadata": {},
   "outputs": [
    {
     "name": "stdout",
     "output_type": "stream",
     "text": [
      "Data Shape:  (4700, 108)\n",
      "Label Shape:  (4700,)\n"
     ]
    }
   ],
   "source": [
    "# Divinding columns into data and labels\n",
    "label= df[0]\n",
    "data= df.drop(columns=0)\n",
    "print(\"Data Shape: \",data.shape)\n",
    "print(\"Label Shape: \",label.shape)"
   ]
  },
  {
   "cell_type": "code",
   "execution_count": 11,
   "metadata": {},
   "outputs": [
    {
     "name": "stdout",
     "output_type": "stream",
     "text": [
      "Train Data Shape:  (3760, 108)\n",
      "Train Label Shape:  (3760,)\n",
      "Test Data Shape:  (940, 108)\n",
      "Test Label Shape:  (940,)\n"
     ]
    },
    {
     "name": "stderr",
     "output_type": "stream",
     "text": [
      "C:\\Users\\saini\\Anaconda3\\lib\\site-packages\\sklearn\\model_selection\\_split.py:2179: FutureWarning: From version 0.21, test_size will always complement train_size unless both are specified.\n",
      "  FutureWarning)\n"
     ]
    }
   ],
   "source": [
    "#Dividing rows into training and test datasets\n",
    "train, test,train_labels, test_labels = train_test_split(data, label, train_size=0.8, random_state=42)\n",
    "print(\"Train Data Shape: \",train.shape)\n",
    "print(\"Train Label Shape: \",train_labels.shape)\n",
    "print(\"Test Data Shape: \",test.shape)\n",
    "print(\"Test Label Shape: \",test_labels.shape)"
   ]
  },
  {
   "cell_type": "code",
   "execution_count": 12,
   "metadata": {
    "scrolled": false
   },
   "outputs": [
    {
     "name": "stdout",
     "output_type": "stream",
     "text": [
      "Accuracy:  0.997872340425532\n"
     ]
    },
    {
     "name": "stderr",
     "output_type": "stream",
     "text": [
      "C:\\Users\\saini\\Anaconda3\\lib\\site-packages\\sklearn\\svm\\base.py:196: FutureWarning: The default value of gamma will change from 'auto' to 'scale' in version 0.22 to account better for unscaled features. Set gamma explicitly to 'auto' or 'scale' to avoid this warning.\n",
      "  \"avoid this warning.\", FutureWarning)\n"
     ]
    }
   ],
   "source": [
    "#Model Training and testing accuracy on test dataset\n",
    "clf = svm.SVC()\n",
    "clf.fit(train, train_labels.values.ravel())\n",
    "score=clf.score(test,test_labels)\n",
    "print(\"Accuracy: \",score)"
   ]
  },
  {
   "cell_type": "markdown",
   "metadata": {},
   "source": [
    "# 4: Predictions\n",
    "Add the path to the file to solve the captcha"
   ]
  },
  {
   "cell_type": "code",
   "execution_count": 13,
   "metadata": {},
   "outputs": [],
   "source": [
    "directory2 = 'F:/CV/unsolved-captchas/electoral-captchas'\n",
    "os.chdir(directory2)\n",
    "cont22, imgray22 = preprocessing('156.png')\n",
    "c22 = SortContours(cont22)\n",
    "answer = ''\n",
    "for cnt22 in c22:\n",
    "    pix_array22, dig22 =ExtractNumbers(cnt22,imgray22)\n",
    "    df22 = pd.DataFrame([pix_array22])\n",
    "    answer += str(clf.predict(df22)[0])"
   ]
  },
  {
   "cell_type": "code",
   "execution_count": 14,
   "metadata": {},
   "outputs": [
    {
     "data": {
      "text/plain": [
       "'11336'"
      ]
     },
     "execution_count": 14,
     "metadata": {},
     "output_type": "execute_result"
    }
   ],
   "source": [
    "answer"
   ]
  }
 ],
 "metadata": {
  "kernelspec": {
   "display_name": "Python 3",
   "language": "python",
   "name": "python3"
  },
  "language_info": {
   "codemirror_mode": {
    "name": "ipython",
    "version": 3
   },
   "file_extension": ".py",
   "mimetype": "text/x-python",
   "name": "python",
   "nbconvert_exporter": "python",
   "pygments_lexer": "ipython3",
   "version": "3.7.1"
  }
 },
 "nbformat": 4,
 "nbformat_minor": 2
}
